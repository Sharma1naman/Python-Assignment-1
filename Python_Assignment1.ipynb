{
  "nbformat": 4,
  "nbformat_minor": 0,
  "metadata": {
    "colab": {
      "provenance": []
    },
    "kernelspec": {
      "name": "python3",
      "display_name": "Python 3"
    },
    "language_info": {
      "name": "python"
    }
  },
  "cells": [
    {
      "cell_type": "markdown",
      "source": [
        "# Assignment 1\n"
      ],
      "metadata": {
        "id": "2EB37pXpEj2C"
      }
    },
    {
      "cell_type": "markdown",
      "source": [
        "**Question 1.** Explain the key features of Python that make it a popular choice for programming?\n",
        "   - Python is one of the most widely used and versatile programming languages in the world today. It offers several features that contribute to its popularity among beginners and experienced developers alike:\n",
        "\n",
        "  1. Widely Used in the Industry\n",
        "    - Python is used extensively across various industries including tech, finance, healthcare, education, and more. Companies like Google, Netflix, NASA, and Dropbox rely on Python for tasks ranging from web development to scientific computing. Its industry-wide acceptance ensures long-term viability and strong career opportunities for Python developers.\n",
        "\n",
        "  2. Rich Collection of Libraries and Frameworks\n",
        "    - Python boasts a massive ecosystem of over 137,000 libraries and packages, which makes development faster and more efficient. These libraries offer pre-written, optimized, and reusable code for specific tasks. For example:\n",
        "\n",
        "    * NumPy and Pandas for data analysis\n",
        "\n",
        "    * TensorFlow and PyTorch for machine learning\n",
        "\n",
        "    * Flask and Django for web development\n",
        "\n",
        "    * OpenCV for image processing\n",
        "\n",
        "       This wide selection reduces development time and enhances productivity.\n",
        "\n",
        "  3. Strong and Active Community\n",
        "    - Python has a well-established, global community of developers. Whether you're a beginner or an expert, you can easily find tutorials, documentation, forums, and open-source projects. The active community continuously updates and improves the language and its tools, making it a reliable and evolving ecosystem.\n",
        "\n",
        "  4. Easy to Learn and Read\n",
        "    - Python’s syntax is simple, clean, and similar to plain English. This makes it an ideal first language for beginners. Its readability reduces the cost of program maintenance and helps teams collaborate more effectively.\n",
        "\n",
        "  5. Ideal for Automation and Image Processing\n",
        "    - Python is widely used in scripting and automation tasks. It helps automate repetitive processes such as file conversions, data scraping, or sending emails. Additionally, libraries like OpenCV and Pillow make it a go-to choice for image processing and computer vision projects.\n",
        "\n",
        "\n",
        "  "
      ],
      "metadata": {
        "id": "g5iugSAUEjTp"
      }
    },
    {
      "cell_type": "markdown",
      "source": [
        "**Question 2.** Describe the role of predefined keywords in Python and provide examples of how they are used in a program.\n",
        "  - Predefined keywords in Python are reserved words that have special meaning and have special purpose. There are 35 predefined keywords in python and they are:\n",
        "\n",
        "    - False, await, else, import, pass, None, break, except, in, raise, True, class, finally, is, return, and, continue, for, lambda, try, as, def, from, nonlocal, while, assert, del, global, not, with, async, elif, if, or, yield\n",
        "\n",
        "\n",
        "   The few examples of how they are used in the program are:\n",
        "\n",
        "    1. Control Flow Management\n",
        "        - Keywords like if, else, elif, for, while, break, and continue are used to control the logical flow of a program.\n",
        "\n",
        "    2. Function and Class Definition\n",
        "        - Keywords like def, class, return are used to define functions and classes.\n",
        "\n",
        "    3. Exception Handling\n",
        "        - Keywords such as try, except, finally, and raise are used for handling errors and exceptions.\n",
        "\n",
        "    4. Variable Scope and Declaration\n",
        "         - global, nonlocal, del are used to manage variable scope and memory.\n",
        "\n",
        "    5. Boolean Logic and Conditions\n",
        "         - Keywords like True, False, not, and, or, is, in are used for conditional expressions.  \n",
        "\n",
        "    6. Asynchronous Programming\n",
        "         - Keywords like async and await are used for writing asynchronous code (e.g., for concurrent tasks).  \n",
        "\n",
        "    7. Data Handling and Imports\n",
        "         - import, as, from, with are used to import libraries, handle files, and manage resources.\n",
        "\n",
        "\n",
        "\n",
        "\n",
        ""
      ],
      "metadata": {
        "id": "VtvNHTlnK7sY"
      }
    },
    {
      "cell_type": "code",
      "execution_count": 1,
      "metadata": {
        "colab": {
          "base_uri": "https://localhost:8080/"
        },
        "id": "9vB-l5A7DvPY",
        "outputId": "efd66544-39b8-4730-c7da-26bd05300387"
      },
      "outputs": [
        {
          "output_type": "stream",
          "name": "stdout",
          "text": [
            "Failed\n"
          ]
        }
      ],
      "source": [
        "#Example of Control Flow Management\n",
        "score = 30\n",
        "if score > 50:\n",
        "    print(\"Passed\")\n",
        "else:\n",
        "    print(\"Failed\")"
      ]
    },
    {
      "cell_type": "code",
      "source": [
        "#Example of Function and Class Definition\n",
        "def greet():\n",
        "    return \"Hello\""
      ],
      "metadata": {
        "id": "M65mdn69MEXW"
      },
      "execution_count": 2,
      "outputs": []
    },
    {
      "cell_type": "code",
      "source": [
        "#Example of Exception Handling\n",
        "try:\n",
        "    x = 10 / 0\n",
        "except ZeroDivisionError:\n",
        "    print(\"Cannot divide by zero\")"
      ],
      "metadata": {
        "colab": {
          "base_uri": "https://localhost:8080/"
        },
        "id": "nu2LSE9rPHVh",
        "outputId": "87e26405-b59b-4580-86ee-b5630a8850f9"
      },
      "execution_count": 3,
      "outputs": [
        {
          "output_type": "stream",
          "name": "stdout",
          "text": [
            "Cannot divide by zero\n"
          ]
        }
      ]
    },
    {
      "cell_type": "code",
      "source": [
        "#Example of Variable Scope and Declaration\n",
        "global a"
      ],
      "metadata": {
        "id": "3eQ9sqAHPQuD"
      },
      "execution_count": 4,
      "outputs": []
    },
    {
      "cell_type": "code",
      "source": [
        "#Example of Boolean Logic and Conditions\n",
        "c = 30\n",
        "if c > 0 and c < 100:\n",
        "    print(\"Valid range\")"
      ],
      "metadata": {
        "colab": {
          "base_uri": "https://localhost:8080/"
        },
        "id": "hU6Pj2xDPaZr",
        "outputId": "8f14dbfc-9c25-4959-e7ac-6691ad3660ad"
      },
      "execution_count": 5,
      "outputs": [
        {
          "output_type": "stream",
          "name": "stdout",
          "text": [
            "Valid range\n"
          ]
        }
      ]
    },
    {
      "cell_type": "code",
      "source": [
        "#Example of Asynchronous Programming\n",
        "async def fetch_data():\n",
        "    await get_data()"
      ],
      "metadata": {
        "id": "L7H3JkxqPjz4"
      },
      "execution_count": 6,
      "outputs": []
    },
    {
      "cell_type": "code",
      "source": [
        "#Example of Data Handling and Imports\n",
        "import math\n",
        "math.sqrt(25)"
      ],
      "metadata": {
        "colab": {
          "base_uri": "https://localhost:8080/"
        },
        "id": "O12sbT4BPzPP",
        "outputId": "53d6d6ac-f4d4-45d7-daf9-41417f07e84c"
      },
      "execution_count": 7,
      "outputs": [
        {
          "output_type": "execute_result",
          "data": {
            "text/plain": [
              "5.0"
            ]
          },
          "metadata": {},
          "execution_count": 7
        }
      ]
    },
    {
      "cell_type": "markdown",
      "source": [
        "**Question 3.** Compare and contrast mutable and immutable objects in Python with examples.\n",
        "- In Python, the key difference between mutable and immutable objects lies in whether their content can be changed after creation. Mutable objects can be modified in place, meaning you can alter their internal state without creating a new object. This makes them flexible and suitable for situations where data needs to be updated frequently. In contrast, immutable objects cannot be modified once they are created. Any operation that appears to modify them will instead create a new object. This ensures data integrity and makes them useful in situations where consistency and safety from unintended changes are important. Lists are a common example of mutable objects, while strings represent immutable objects.\n",
        "      "
      ],
      "metadata": {
        "id": "7uvacjgrVR-h"
      }
    },
    {
      "cell_type": "code",
      "source": [
        "#Example of Mutable Object (List)\n",
        "fruits = ['apple', 'banana', 'cherry']\n",
        "fruits[1] = 'mango'\n",
        "print(fruits)"
      ],
      "metadata": {
        "colab": {
          "base_uri": "https://localhost:8080/"
        },
        "id": "jxHi13dgWeRU",
        "outputId": "7af322e9-6edb-4ae0-93c6-9e30db556256"
      },
      "execution_count": 8,
      "outputs": [
        {
          "output_type": "stream",
          "name": "stdout",
          "text": [
            "['apple', 'mango', 'cherry']\n"
          ]
        }
      ]
    },
    {
      "cell_type": "code",
      "source": [
        "#Example of Immutable Object (String)\n",
        "name = \"Alice\"\n",
        "name[0]= \"M\"\n",
        "print(name)"
      ],
      "metadata": {
        "colab": {
          "base_uri": "https://localhost:8080/",
          "height": 198
        },
        "id": "g4ZoIFCJWqOe",
        "outputId": "c8136dc0-0bd2-40db-ba86-4bcbcaf63646"
      },
      "execution_count": 9,
      "outputs": [
        {
          "output_type": "error",
          "ename": "TypeError",
          "evalue": "'str' object does not support item assignment",
          "traceback": [
            "\u001b[0;31m---------------------------------------------------------------------------\u001b[0m",
            "\u001b[0;31mTypeError\u001b[0m                                 Traceback (most recent call last)",
            "\u001b[0;32m<ipython-input-9-7d04e00fe857>\u001b[0m in \u001b[0;36m<cell line: 0>\u001b[0;34m()\u001b[0m\n\u001b[1;32m      1\u001b[0m \u001b[0;31m#Example of Immutable Object (String)\u001b[0m\u001b[0;34m\u001b[0m\u001b[0;34m\u001b[0m\u001b[0m\n\u001b[1;32m      2\u001b[0m \u001b[0mname\u001b[0m \u001b[0;34m=\u001b[0m \u001b[0;34m\"Alice\"\u001b[0m\u001b[0;34m\u001b[0m\u001b[0;34m\u001b[0m\u001b[0m\n\u001b[0;32m----> 3\u001b[0;31m \u001b[0mname\u001b[0m\u001b[0;34m[\u001b[0m\u001b[0;36m0\u001b[0m\u001b[0;34m]\u001b[0m\u001b[0;34m=\u001b[0m \u001b[0;34m\"M\"\u001b[0m\u001b[0;34m\u001b[0m\u001b[0;34m\u001b[0m\u001b[0m\n\u001b[0m\u001b[1;32m      4\u001b[0m \u001b[0mprint\u001b[0m\u001b[0;34m(\u001b[0m\u001b[0mname\u001b[0m\u001b[0;34m)\u001b[0m\u001b[0;34m\u001b[0m\u001b[0;34m\u001b[0m\u001b[0m\n",
            "\u001b[0;31mTypeError\u001b[0m: 'str' object does not support item assignment"
          ]
        }
      ]
    },
    {
      "cell_type": "markdown",
      "source": [
        "**Question 4.**  Discuss the different types of operators in Python and provide examples of how they are used.\n",
        "- In Python, operators are special symbols that carry out arithmetic or logical computations. The value on which the operator operates is known as the operand. Python provides several types of operators, each with specific use cases.\n",
        "    - *Arithmetic operators are used to perform common mathematical operations. The addition operator (+) adds two numbers, while subtraction (-) subtracts one number from another. Multiplication (* * *) returns the product of two numbers, and division (/) returns the quotient, including decimals. Floor division (//) returns the quotient without the remainder, essentially rounding down to the nearest whole number. The modulus operator (%) returns the remainder of a division, and the exponentiation operator (**) raises a number to the power of another.*\n",
        "\n",
        "    - *Comparison operators are used to compare two values and return a Boolean result (True or False). The == operator checks if two values are equal, while != checks if they are not equal. The > operator checks if the left operand is greater than the right, and < checks if it is less. The >= and <= operators check if one value is greater than or equal to, or less than or equal to the other, respectively.*\n",
        "\n",
        "    - *Logical operators are used to combine conditional statements. The and operator returns True only if both statements are true. The or operator returns True if at least one of the statements is true. The not operator inverts the result of a condition, returning True if the condition is false and vice versa.*\n",
        "\n",
        "    - *Assignment operators are used to assign values to variables. The simplest form is the = operator, which assigns the value on the right to the variable on the left. Compound assignment operators such as +=, -=, *=, and /= perform an operation and then assign the result back to the variable. For instance, += adds the right-hand value to the left-hand variable and assigns the result to that variable.*\n",
        "\n",
        "    - *Membership operators test whether a value is a member of a sequence such as a string, list, or tuple. The in operator returns True if the value exists in the sequence, while not in returns True if it does not.*\n",
        "\n",
        "    - *Identity operators compare the memory location of two objects. The is operator returns True if two variables point to the same object in memory, and is not returns True if they do not. These are particularly useful when comparing object instances, as opposed to just their values.*\n",
        "\n",
        "    - *Bitwise operators work on binary (bit-level) representations of integers. The & operator performs a bitwise AND, where only bits that are 1 in both operands result in 1. The | operator performs a bitwise OR, resulting in 1 if at least one of the bits is 1. The ~ operator is the bitwise NOT, which inverts all the bits of the number, effectively changing each 0 to 1 and each 1 to 0 (and returning the two's complement of the number). The ^ operator is the bitwise XOR, which returns 1 when the bits of two operands are different. Left shift (<<) shifts the bits of a number to the left by a given number of positions, effectively multiplying the number by 2 for each shift. Right shift (>>) does the opposite, dividing the number by 2 for each shift by moving bits to the right.*\n",
        "\n",
        "\n",
        "\n",
        "\n"
      ],
      "metadata": {
        "id": "PnmKZ66sFac6"
      }
    },
    {
      "cell_type": "code",
      "source": [
        "#Examples of Arithmetic Operator\n",
        "print(5 + 3)\n",
        "print(5 - 3)\n",
        "print(5 * 3)\n",
        "print(5 / 2)\n",
        "print(5 // 2)\n",
        "print(5 % 2)\n",
        "print(2 ** 3)"
      ],
      "metadata": {
        "colab": {
          "base_uri": "https://localhost:8080/"
        },
        "id": "feOCsDjAcdfd",
        "outputId": "01480a60-38d0-482b-a151-cc5eaa92afca"
      },
      "execution_count": 10,
      "outputs": [
        {
          "output_type": "stream",
          "name": "stdout",
          "text": [
            "8\n",
            "2\n",
            "15\n",
            "2.5\n",
            "2\n",
            "1\n",
            "8\n"
          ]
        }
      ]
    },
    {
      "cell_type": "code",
      "source": [
        "#Examples of Comparison Operator\n",
        "print(5 == 3)\n",
        "print(5 != 3)\n",
        "print(5 > 3)\n",
        "print(5 < 3)\n",
        "print(5 >= 5)\n",
        "print(3 <= 5)"
      ],
      "metadata": {
        "colab": {
          "base_uri": "https://localhost:8080/"
        },
        "id": "Thxnz60icvqj",
        "outputId": "d728ad93-41ed-4300-9e66-631e107a7de9"
      },
      "execution_count": 11,
      "outputs": [
        {
          "output_type": "stream",
          "name": "stdout",
          "text": [
            "False\n",
            "True\n",
            "True\n",
            "False\n",
            "True\n",
            "True\n"
          ]
        }
      ]
    },
    {
      "cell_type": "code",
      "source": [
        "#Examples of Logical Operator\n",
        "x = 5\n",
        "y = 10\n",
        "\n",
        "print(x > 2 and y < 15)\n",
        "print(x < 2 or y > 15)\n",
        "print(not(x == 5))"
      ],
      "metadata": {
        "colab": {
          "base_uri": "https://localhost:8080/"
        },
        "id": "lSlMhPB4dFM8",
        "outputId": "ce5d92b8-d8d4-4302-9fe5-86704b7d4ab5"
      },
      "execution_count": 12,
      "outputs": [
        {
          "output_type": "stream",
          "name": "stdout",
          "text": [
            "True\n",
            "False\n",
            "False\n"
          ]
        }
      ]
    },
    {
      "cell_type": "code",
      "source": [
        "#Examples of Assignment Operator\n",
        "x = 5\n",
        "print(x)\n",
        "x += 3\n",
        "print(x)\n",
        "x -= 2\n",
        "print(x)\n",
        "x *= 4\n",
        "print(x)\n",
        "x /= 2\n",
        "print(x)"
      ],
      "metadata": {
        "colab": {
          "base_uri": "https://localhost:8080/"
        },
        "id": "X9_gQIowdUbi",
        "outputId": "c46868e0-64cd-4996-8719-1b491f896f3c"
      },
      "execution_count": 13,
      "outputs": [
        {
          "output_type": "stream",
          "name": "stdout",
          "text": [
            "5\n",
            "8\n",
            "6\n",
            "24\n",
            "12.0\n"
          ]
        }
      ]
    },
    {
      "cell_type": "code",
      "source": [
        "#Examples of Membership Operator\n",
        "print('a' in 'apple')\n",
        "print('b' not in 'apple')"
      ],
      "metadata": {
        "colab": {
          "base_uri": "https://localhost:8080/"
        },
        "id": "asYXNHGydiWq",
        "outputId": "7739a6ad-c5a7-4fd2-c8bf-06e35e07c54e"
      },
      "execution_count": 14,
      "outputs": [
        {
          "output_type": "stream",
          "name": "stdout",
          "text": [
            "True\n",
            "True\n"
          ]
        }
      ]
    },
    {
      "cell_type": "code",
      "source": [
        "#Examples of Identity operator\n",
        "x = [1, 2, 3]\n",
        "y = x\n",
        "z = [1, 2, 3]\n",
        "\n",
        "print(x is y)\n",
        "print(x is not z)"
      ],
      "metadata": {
        "colab": {
          "base_uri": "https://localhost:8080/"
        },
        "id": "wNhFrdi0d2vq",
        "outputId": "59fbc5b5-fd2e-4352-a41a-0bdb03ea6170"
      },
      "execution_count": 15,
      "outputs": [
        {
          "output_type": "stream",
          "name": "stdout",
          "text": [
            "True\n",
            "True\n"
          ]
        }
      ]
    },
    {
      "cell_type": "code",
      "source": [
        "#Examples of Bitwise Operator\n",
        "print(5 & 3)     # 5 = 101, 3 = 011 --> 101 & 011 = 001 --> 1\n",
        "\n",
        "print(5 | 3)     # 5 = 101, 3 = 011 --> 101 | 011 = 111 --> 7\n",
        "\n",
        "print(~5)        # 5 = 00000101 (in 8-bit) --> ~5 = 11111010 (in 2's complement, this is -6)\n",
        "\n",
        "print(5 ^ 3)     # 5 = 101, 3 = 011 --> 101 ^ 011 = 110 --> 6\n",
        "\n",
        "print(5 << 1)    # 5 = 00000101 --> Shift left by 1 bit = 00001010 --> 10\n",
        "\n",
        "print(5 >> 1)    # 5 = 00000101 --> Shift right by 1 bit = 00000010 --> 2"
      ],
      "metadata": {
        "colab": {
          "base_uri": "https://localhost:8080/"
        },
        "id": "_gAxk1nae9Qs",
        "outputId": "abc9968a-8c38-4fdd-f572-61d97c339c1f"
      },
      "execution_count": 16,
      "outputs": [
        {
          "output_type": "stream",
          "name": "stdout",
          "text": [
            "1\n",
            "7\n",
            "-6\n",
            "6\n",
            "10\n",
            "2\n"
          ]
        }
      ]
    },
    {
      "cell_type": "markdown",
      "source": [
        "**Question 5.** Explain the concept of type casting in Python with examples.\n",
        "- Type casting in Python is the process of converting the value of one data type to another. This is useful when you need to perform operations between different types or format data for display, storage, or calculation.\n",
        "\n",
        "    **Types of Type Casting:**\n",
        "    - Implicit Type Casting (Automatic)\n",
        "         - Done automatically by Python.\n",
        "\n",
        "         - Python converts a smaller or lower data type to a larger or higher type when required.\n",
        "\n",
        "         - Usually happens in expressions involving both int and float.\n",
        "\n",
        "    -  Explicit Type Casting (Manual)\n",
        "         - Done manually using built-in functions.\n",
        "\n",
        "         - You control the conversion using:\n",
        "\n",
        "               - int() → Converts to integer (removes decimal part if float)\n",
        "\n",
        "               - float() → Converts to float\n",
        "\n",
        "               - str() → Converts to string\n",
        "\n",
        "               - bool() → Converts to boolean (True or False)\n",
        "\n",
        "    - **Things to Remember:**\n",
        "        - int(\"10\") works, but int(\"ten\") will cause an error.\n",
        "\n",
        "        - int(3.9) → 3 (truncates, not rounds).\n",
        "\n",
        "        - bool() returns False for values like 0, 0.0,\" \", [], {}, None, and True for everything else.\n",
        "\n",
        "        - Strings like \"123\" can be converted to int or float, but \"abc\" cannot.\n",
        "\n",
        "\n",
        "\n"
      ],
      "metadata": {
        "id": "uayHH7GCloe4"
      }
    },
    {
      "cell_type": "code",
      "source": [
        "# Implicit Type Casting example\n",
        "a = 5          # int\n",
        "b = 2.0        # float\n",
        "result = a + b # int + float = float\n",
        "print(result)"
      ],
      "metadata": {
        "colab": {
          "base_uri": "https://localhost:8080/"
        },
        "id": "9FJSxSMah5ME",
        "outputId": "5e3e5128-08ac-4616-a8a0-61ad1e90e93e"
      },
      "execution_count": 17,
      "outputs": [
        {
          "output_type": "stream",
          "name": "stdout",
          "text": [
            "7.0\n"
          ]
        }
      ]
    },
    {
      "cell_type": "code",
      "source": [
        "# Explicit Type Casting example\n",
        "x = \"10\"\n",
        "y = int(x)     # string to integer\n",
        "print(y + 5)"
      ],
      "metadata": {
        "colab": {
          "base_uri": "https://localhost:8080/"
        },
        "id": "8-Y7KT7Kn5ig",
        "outputId": "b103342a-5374-406e-cc89-35bbc7ec5472"
      },
      "execution_count": 18,
      "outputs": [
        {
          "output_type": "stream",
          "name": "stdout",
          "text": [
            "15\n"
          ]
        }
      ]
    },
    {
      "cell_type": "code",
      "source": [
        "# Float to Integer (Truncation) example\n",
        "a = 3.7\n",
        "b = int(a)\n",
        "print(b)"
      ],
      "metadata": {
        "colab": {
          "base_uri": "https://localhost:8080/"
        },
        "id": "ugbPiplQoC-y",
        "outputId": "bb40557e-508e-4b35-eaf2-c22c2c04b4b9"
      },
      "execution_count": 19,
      "outputs": [
        {
          "output_type": "stream",
          "name": "stdout",
          "text": [
            "3\n"
          ]
        }
      ]
    },
    {
      "cell_type": "code",
      "source": [
        "# Integer to String Example\n",
        "num = 100\n",
        "text = str(num)\n",
        "print(\"Value is \" + text)"
      ],
      "metadata": {
        "colab": {
          "base_uri": "https://localhost:8080/"
        },
        "id": "draHAOznoIWu",
        "outputId": "3b6743b1-0a80-4ce6-aac7-26ff67101728"
      },
      "execution_count": 20,
      "outputs": [
        {
          "output_type": "stream",
          "name": "stdout",
          "text": [
            "Value is 100\n"
          ]
        }
      ]
    },
    {
      "cell_type": "code",
      "source": [
        "# Checking Boolean Conversion Example\n",
        "print(bool(0))\n",
        "print(bool(123))\n",
        "print(bool(\"\"))\n",
        "print(bool(\"Python\"))"
      ],
      "metadata": {
        "colab": {
          "base_uri": "https://localhost:8080/"
        },
        "id": "sZSLJvUNoNWO",
        "outputId": "4bb58b51-a92e-4fc4-8529-afcb8e2fa4f8"
      },
      "execution_count": 21,
      "outputs": [
        {
          "output_type": "stream",
          "name": "stdout",
          "text": [
            "False\n",
            "True\n",
            "False\n",
            "True\n"
          ]
        }
      ]
    },
    {
      "cell_type": "markdown",
      "source": [
        "**Question 6.** How do conditional statements work in Python? Illustrate with examples.\n",
        "- Conditional statements allow you to make decisions in your Python programs based on certain conditions. These statements help control the flow of execution by executing different blocks of code depending on whether a condition is True or False.\n",
        "\n",
        "  **Common Conditional Keywords in Python:**\n",
        "\n",
        "     -  if statement\n",
        "         - Executes a block of code only if the condition is true.\n",
        "\n",
        "     - if-else statement\n",
        "         - Executes one block if the condition is true, and another block if it is false.\n",
        "\n",
        "     - if-elif-else statement\n",
        "         - Checks multiple conditions in sequence. The first condition that is true gets executed, and the rest are skipped.\n",
        "\n",
        "     - Nested if Statements\n",
        "         - A nested if is an if statement placed inside another if (or elif) block. It allows for checking further conditions only when a previous condition is true. This is useful when decisions are dependent on earlier logic.\n",
        "\n",
        "        \n",
        "\n",
        "\n",
        "\n"
      ],
      "metadata": {
        "id": "mQAJfCg6qzkv"
      }
    },
    {
      "cell_type": "code",
      "source": [
        "#Syntax of if-elif-else\n",
        "'''\n",
        "if condition:\n",
        "    # code block if condition is true\n",
        "elif another_condition:\n",
        "    # code block if another condition is true\n",
        "else:\n",
        "    # code block if no condition is true\n",
        "\n",
        "'''\n",
        "\n",
        "#Indentation is Crucial!\n",
        "\n",
        "#-->Python uses indentation (spaces or tabs) to define the code blocks inside conditionals — this replaces the use of {} like in other languages."
      ],
      "metadata": {
        "colab": {
          "base_uri": "https://localhost:8080/",
          "height": 53
        },
        "id": "GXEQx3NhoYoH",
        "outputId": "198f91e6-0c30-483c-e39f-227713f7f97d"
      },
      "execution_count": 22,
      "outputs": [
        {
          "output_type": "execute_result",
          "data": {
            "text/plain": [
              "'\\nif condition:\\n    # code block if condition is true\\nelif another_condition:\\n    # code block if another condition is true\\nelse:\\n    # code block if no condition is true\\n\\n'"
            ],
            "application/vnd.google.colaboratory.intrinsic+json": {
              "type": "string"
            }
          },
          "metadata": {},
          "execution_count": 22
        }
      ]
    },
    {
      "cell_type": "code",
      "source": [
        "# Simple if statement example\n",
        "x = 10\n",
        "if x > 5:\n",
        "    print(\"x is greater than 5\")"
      ],
      "metadata": {
        "colab": {
          "base_uri": "https://localhost:8080/"
        },
        "id": "WqnK9A_juy9h",
        "outputId": "54ac1b20-55ad-44b8-8bfd-b517f2b6d9a8"
      },
      "execution_count": 23,
      "outputs": [
        {
          "output_type": "stream",
          "name": "stdout",
          "text": [
            "x is greater than 5\n"
          ]
        }
      ]
    },
    {
      "cell_type": "code",
      "source": [
        "# if-else statement example\n",
        "num = 3\n",
        "if num % 2 == 0:\n",
        "    print(\"Even number\")\n",
        "else:\n",
        "    print(\"Odd number\")"
      ],
      "metadata": {
        "colab": {
          "base_uri": "https://localhost:8080/"
        },
        "id": "4jo-gle8vPtH",
        "outputId": "802a089b-4b0e-44bf-af27-29255b8aa77a"
      },
      "execution_count": 24,
      "outputs": [
        {
          "output_type": "stream",
          "name": "stdout",
          "text": [
            "Odd number\n"
          ]
        }
      ]
    },
    {
      "cell_type": "code",
      "source": [
        "# if-elif-else chain example\n",
        "marks = 85\n",
        "if marks >= 90:\n",
        "    print(\"Grade A\")\n",
        "elif marks >= 75:\n",
        "    print(\"Grade B\")\n",
        "elif marks >= 60:\n",
        "    print(\"Grade C\")\n",
        "else:\n",
        "    print(\"Grade F\")"
      ],
      "metadata": {
        "colab": {
          "base_uri": "https://localhost:8080/"
        },
        "id": "u1eMrj3NvTRS",
        "outputId": "0d4e358d-3628-460d-aea9-e94edb8462e9"
      },
      "execution_count": 25,
      "outputs": [
        {
          "output_type": "stream",
          "name": "stdout",
          "text": [
            "Grade B\n"
          ]
        }
      ]
    },
    {
      "cell_type": "code",
      "source": [
        "# Nested if example\n",
        "age = 25\n",
        "if age > 18:\n",
        "    print(\"Adult\")\n",
        "    if age > 60:\n",
        "        print(\"Senior Citizen\")"
      ],
      "metadata": {
        "colab": {
          "base_uri": "https://localhost:8080/"
        },
        "id": "L9_6LwcfvYsh",
        "outputId": "048ea635-f98b-4d0c-b8fe-9356094be39f"
      },
      "execution_count": 26,
      "outputs": [
        {
          "output_type": "stream",
          "name": "stdout",
          "text": [
            "Adult\n"
          ]
        }
      ]
    },
    {
      "cell_type": "code",
      "source": [
        "# Using logical operators in condition example\n",
        "a = 5\n",
        "b = 10\n",
        "if a > 0 and b > 0:\n",
        "    print(\"Both numbers are positive\")"
      ],
      "metadata": {
        "colab": {
          "base_uri": "https://localhost:8080/"
        },
        "id": "RrpqlynpvgBK",
        "outputId": "43cb9ead-cdd9-41ad-e987-7d6affc2ecc7"
      },
      "execution_count": 27,
      "outputs": [
        {
          "output_type": "stream",
          "name": "stdout",
          "text": [
            "Both numbers are positive\n"
          ]
        }
      ]
    },
    {
      "cell_type": "markdown",
      "source": [
        "**Question 7.** Describe the different types of loops in Python and their use cases with examples.\n",
        "- Loops are used in Python to execute a block of code repeatedly as long as a condition is met. They help avoid repetitive code and are essential for working with sequences like lists, ranges, strings, etc.\n",
        "\n",
        "    - **Types of Loops in Python:**\n",
        "        - for **Loop**\n",
        "            - The for loop is used to iterate over a sequence (like a list, tuple, string, or range).\n",
        "\n",
        "            - It runs the loop body once for each item in the sequence.\n",
        "\n",
        "            - Best used when the number of iterations is known or you're looping through a collection.\n",
        "\n",
        "       **Use cases:**\n",
        "            - Iterating over elements in a list, string, tuple\n",
        "\n",
        "            - Performing repeated actions a known number of times\n",
        "\n",
        "            - Looping through indexes using range()\n",
        "\n",
        "      - while **Loop**\n",
        "          - The while loop runs as long as a condition is True.\n",
        "\n",
        "          - It checks the condition before each iteration.\n",
        "\n",
        "          - Use when you don’t know ahead of time how many times the loop should run.\n",
        "          \n",
        "        **Use cases:**\n",
        "          - Repeating until user input is valid\n",
        "\n",
        "          - Waiting for a condition to become false\n",
        "\n",
        "          - Running until a specific flag or condition is triggered\n",
        "\n",
        "      - break **and** continue **Statements**\n",
        "          - break: Exits the loop prematurely when a certain condition is met.\n",
        "\n",
        "          - continue: Skips the current iteration and moves to the next one.\n",
        "\n",
        "      - else **Clause with Loops**\n",
        "          - Both for and while loops can have an optional else block.\n",
        "\n",
        "          - It runs only if the loop completes normally (i.e., not interrupted by break).\n",
        "\n",
        "\n",
        "\n",
        "\n",
        "\n",
        "\n",
        "\n"
      ],
      "metadata": {
        "id": "PHnesSPuV3yG"
      }
    },
    {
      "cell_type": "code",
      "source": [
        "# For loop over a list example\n",
        "fruits = ['apple', 'banana', 'cherry']\n",
        "for fruit in fruits:\n",
        "    print(fruit)"
      ],
      "metadata": {
        "colab": {
          "base_uri": "https://localhost:8080/"
        },
        "id": "7ycrenL3vmLQ",
        "outputId": "893f462c-fcf1-4f76-d1ff-d405b38d527c"
      },
      "execution_count": 28,
      "outputs": [
        {
          "output_type": "stream",
          "name": "stdout",
          "text": [
            "apple\n",
            "banana\n",
            "cherry\n"
          ]
        }
      ]
    },
    {
      "cell_type": "code",
      "source": [
        "# For loop using range example\n",
        "for i in range(1, 6):\n",
        "    print(i)"
      ],
      "metadata": {
        "colab": {
          "base_uri": "https://localhost:8080/"
        },
        "id": "9Iu2BcbaYdQL",
        "outputId": "900e8ed1-ead2-4031-c39f-f99ca37c8f90"
      },
      "execution_count": 29,
      "outputs": [
        {
          "output_type": "stream",
          "name": "stdout",
          "text": [
            "1\n",
            "2\n",
            "3\n",
            "4\n",
            "5\n"
          ]
        }
      ]
    },
    {
      "cell_type": "code",
      "source": [
        "# While loop example\n",
        "count = 0\n",
        "while count < 5:\n",
        "    print(\"Count:\", count)\n",
        "    count += 1"
      ],
      "metadata": {
        "colab": {
          "base_uri": "https://localhost:8080/"
        },
        "id": "Y5M5mZgbYkZC",
        "outputId": "d8f3dee0-8a1a-4fb5-d171-f033d6c3c271"
      },
      "execution_count": 30,
      "outputs": [
        {
          "output_type": "stream",
          "name": "stdout",
          "text": [
            "Count: 0\n",
            "Count: 1\n",
            "Count: 2\n",
            "Count: 3\n",
            "Count: 4\n"
          ]
        }
      ]
    },
    {
      "cell_type": "code",
      "source": [
        "# Break in a loop example\n",
        "for i in range(10):\n",
        "    if i == 5:\n",
        "        break\n",
        "    print(i)"
      ],
      "metadata": {
        "colab": {
          "base_uri": "https://localhost:8080/"
        },
        "id": "FpMoTh0bYoi9",
        "outputId": "ee860f41-b4c8-432c-edde-82b4fc25fbfe"
      },
      "execution_count": 31,
      "outputs": [
        {
          "output_type": "stream",
          "name": "stdout",
          "text": [
            "0\n",
            "1\n",
            "2\n",
            "3\n",
            "4\n"
          ]
        }
      ]
    },
    {
      "cell_type": "code",
      "source": [
        "# Continue in a loop example\n",
        "for i in range(5):\n",
        "    if i == 2:\n",
        "        continue\n",
        "    print(i)"
      ],
      "metadata": {
        "colab": {
          "base_uri": "https://localhost:8080/"
        },
        "id": "iDYh0niMYt3m",
        "outputId": "df724544-3f29-43fa-a1b3-0ca864be7151"
      },
      "execution_count": 32,
      "outputs": [
        {
          "output_type": "stream",
          "name": "stdout",
          "text": [
            "0\n",
            "1\n",
            "3\n",
            "4\n"
          ]
        }
      ]
    },
    {
      "cell_type": "code",
      "source": [
        "# Else with for loop example\n",
        "for i in range(3):\n",
        "    print(i)\n",
        "else:\n",
        "    print(\"Loop finished without break\")"
      ],
      "metadata": {
        "colab": {
          "base_uri": "https://localhost:8080/"
        },
        "id": "MGGDUJm3Yymc",
        "outputId": "600a1ea4-d569-442c-c1cf-0df01f4a9c9f"
      },
      "execution_count": 33,
      "outputs": [
        {
          "output_type": "stream",
          "name": "stdout",
          "text": [
            "0\n",
            "1\n",
            "2\n",
            "Loop finished without break\n"
          ]
        }
      ]
    },
    {
      "cell_type": "code",
      "source": [
        "# Else with while loop example\n",
        "x = 0\n",
        "while x < 3:\n",
        "    print(x)\n",
        "    x += 1\n",
        "else:\n",
        "    print(\"While loop completed\")"
      ],
      "metadata": {
        "colab": {
          "base_uri": "https://localhost:8080/"
        },
        "id": "1GebxNJhY30u",
        "outputId": "217b7572-8bf2-4cd4-ddf6-eba21787b277"
      },
      "execution_count": 34,
      "outputs": [
        {
          "output_type": "stream",
          "name": "stdout",
          "text": [
            "0\n",
            "1\n",
            "2\n",
            "While loop completed\n"
          ]
        }
      ]
    }
  ]
}